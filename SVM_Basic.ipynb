{
 "cells": [
  {
   "cell_type": "code",
   "execution_count": 1,
   "metadata": {
    "ExecuteTime": {
     "end_time": "2018-05-03T20:08:57.553433Z",
     "start_time": "2018-05-03T20:08:55.670550Z"
    }
   },
   "outputs": [],
   "source": [
    "import numpy as np\n",
    "import pandas as pd\n",
    "import matplotlib.pyplot as plt\n",
    "%matplotlib inline\n",
    "import seaborn as sns\n",
    "sns.set(style=\"white\", color_codes=True)\n",
    "\n",
    "import numpy.random as random\n",
    "import scipy.optimize as optimize\n",
    "\n",
    "import sys\n",
    "sys.path.append(\"..\")"
   ]
  },
  {
   "cell_type": "code",
   "execution_count": 2,
   "metadata": {
    "ExecuteTime": {
     "end_time": "2018-05-03T20:08:57.785580Z",
     "start_time": "2018-05-03T20:08:57.571327Z"
    }
   },
   "outputs": [],
   "source": [
    "#from data_mining.SVM import SVM\n",
    "from sklearn import svm"
   ]
  },
  {
   "cell_type": "code",
   "execution_count": 3,
   "metadata": {
    "ExecuteTime": {
     "end_time": "2018-05-03T20:08:57.793644Z",
     "start_time": "2018-05-03T20:08:57.789454Z"
    }
   },
   "outputs": [],
   "source": [
    "seed=123456\n",
    "random.seed(seed)"
   ]
  },
  {
   "cell_type": "code",
   "execution_count": 4,
   "metadata": {
    "ExecuteTime": {
     "end_time": "2018-05-03T20:08:57.807355Z",
     "start_time": "2018-05-03T20:08:57.796913Z"
    }
   },
   "outputs": [
    {
     "name": "stdout",
     "output_type": "stream",
     "text": [
      "[[1.   0.8 ]\n",
      " [1.2  0.7 ]\n",
      " [1.5  1.4 ]\n",
      " [2.   1.6 ]\n",
      " [3.   2.85]\n",
      " [0.9  1.2 ]\n",
      " [1.4  1.5 ]\n",
      " [1.3  1.7 ]\n",
      " [1.9  2.  ]\n",
      " [2.9  3.1 ]]\n",
      "[0.8  0.7  1.4  1.6  2.85 1.2  1.5  1.7  2.   3.1 ]\n"
     ]
    }
   ],
   "source": [
    "X=np.array([[1,0.8],\n",
    "      [1.2,0.7],\n",
    "       [1.5,1.4],\n",
    "       [2, 1.6],\n",
    "       [3, 2.85],\n",
    "    [0.9,1.2],\n",
    "    [1.4,1.5],\n",
    "    [1.3,1.7],\n",
    "    [1.9,2],\n",
    "    [2.9,3.1]\n",
    "  ])\n",
    "\n",
    "Y = np.array([ 1,1,1,1,1,-1,-1,-1,-1,-1],dtype=np.double)\n",
    "print(X)\n",
    "print(X[:,1])"
   ]
  },
  {
   "cell_type": "code",
   "execution_count": 5,
   "metadata": {
    "ExecuteTime": {
     "end_time": "2018-05-03T20:08:57.881643Z",
     "start_time": "2018-05-03T20:08:57.874280Z"
    }
   },
   "outputs": [
    {
     "data": {
      "text/plain": [
       "(10, 2)"
      ]
     },
     "execution_count": 5,
     "metadata": {},
     "output_type": "execute_result"
    }
   ],
   "source": [
    "X.shape"
   ]
  },
  {
   "cell_type": "code",
   "execution_count": 6,
   "metadata": {
    "ExecuteTime": {
     "end_time": "2018-05-03T20:08:57.920286Z",
     "start_time": "2018-05-03T20:08:57.913815Z"
    }
   },
   "outputs": [
    {
     "data": {
      "text/plain": [
       "(10, 10)"
      ]
     },
     "execution_count": 6,
     "metadata": {},
     "output_type": "execute_result"
    }
   ],
   "source": [
    "len(X),len(Y)"
   ]
  },
  {
   "cell_type": "code",
   "execution_count": 7,
   "metadata": {
    "ExecuteTime": {
     "end_time": "2018-04-22T03:24:55.286424Z",
     "start_time": "2018-04-22T03:24:55.280860Z"
    }
   },
   "outputs": [],
   "source": [
    "data=pd.DataFrame(X,columns=[\"x1\",\"x2\"])\n",
    "data[\"y\"]=Y"
   ]
  },
  {
   "cell_type": "code",
   "execution_count": 8,
   "metadata": {
    "ExecuteTime": {
     "end_time": "2018-04-22T03:24:55.484126Z",
     "start_time": "2018-04-22T03:24:55.477623Z"
    }
   },
   "outputs": [],
   "source": [
    "data_true=data[data[\"y\"]==1]\n",
    "data_false=data[data[\"y\"]==-1]"
   ]
  },
  {
   "cell_type": "code",
   "execution_count": 9,
   "metadata": {
    "ExecuteTime": {
     "end_time": "2018-04-22T03:24:55.668855Z",
     "start_time": "2018-04-22T03:24:55.654075Z"
    }
   },
   "outputs": [
    {
     "data": {
      "text/html": [
       "<div>\n",
       "<style scoped>\n",
       "    .dataframe tbody tr th:only-of-type {\n",
       "        vertical-align: middle;\n",
       "    }\n",
       "\n",
       "    .dataframe tbody tr th {\n",
       "        vertical-align: top;\n",
       "    }\n",
       "\n",
       "    .dataframe thead th {\n",
       "        text-align: right;\n",
       "    }\n",
       "</style>\n",
       "<table border=\"1\" class=\"dataframe\">\n",
       "  <thead>\n",
       "    <tr style=\"text-align: right;\">\n",
       "      <th></th>\n",
       "      <th>x1</th>\n",
       "      <th>x2</th>\n",
       "      <th>y</th>\n",
       "    </tr>\n",
       "  </thead>\n",
       "  <tbody>\n",
       "    <tr>\n",
       "      <th>0</th>\n",
       "      <td>1.0</td>\n",
       "      <td>0.80</td>\n",
       "      <td>1.0</td>\n",
       "    </tr>\n",
       "    <tr>\n",
       "      <th>1</th>\n",
       "      <td>1.2</td>\n",
       "      <td>0.70</td>\n",
       "      <td>1.0</td>\n",
       "    </tr>\n",
       "    <tr>\n",
       "      <th>2</th>\n",
       "      <td>1.5</td>\n",
       "      <td>1.40</td>\n",
       "      <td>1.0</td>\n",
       "    </tr>\n",
       "    <tr>\n",
       "      <th>3</th>\n",
       "      <td>2.0</td>\n",
       "      <td>1.60</td>\n",
       "      <td>1.0</td>\n",
       "    </tr>\n",
       "    <tr>\n",
       "      <th>4</th>\n",
       "      <td>3.0</td>\n",
       "      <td>2.85</td>\n",
       "      <td>1.0</td>\n",
       "    </tr>\n",
       "  </tbody>\n",
       "</table>\n",
       "</div>"
      ],
      "text/plain": [
       "    x1    x2    y\n",
       "0  1.0  0.80  1.0\n",
       "1  1.2  0.70  1.0\n",
       "2  1.5  1.40  1.0\n",
       "3  2.0  1.60  1.0\n",
       "4  3.0  2.85  1.0"
      ]
     },
     "execution_count": 9,
     "metadata": {},
     "output_type": "execute_result"
    }
   ],
   "source": [
    "data_true"
   ]
  },
  {
   "cell_type": "code",
   "execution_count": 10,
   "metadata": {
    "ExecuteTime": {
     "end_time": "2018-04-22T03:24:56.262910Z",
     "start_time": "2018-04-22T03:24:55.836193Z"
    },
    "scrolled": false
   },
   "outputs": [
    {
     "data": {
      "text/plain": [
       "Text(0,0.5,'x2')"
      ]
     },
     "execution_count": 10,
     "metadata": {},
     "output_type": "execute_result"
    },
    {
     "data": {
      "image/png": "[encoded data removed]",
      "text/plain": [
       "<Figure size 432x288 with 1 Axes>"
      ]
     },
     "metadata": {},
     "output_type": "display_data"
    }
   ],
   "source": [
    "fig, ax = plt.subplots()\n",
    "ax.plot(data_true[\"x1\"],data_true[\"x2\"],\"o\",color=\"b\")\n",
    "ax.plot(data_false[\"x1\"],data_false[\"x2\"],\"o\",color=\"r\")\n",
    "ax.plot([1,3],[1,3],\"-.\",color=\"k\")\n",
    "ax.plot([1,3],[0.9,3.1],\"-.\",color=\"g\")\n",
    "ax.set_title(\"Two posible separating hyperplanes\")\n",
    "ax.set_xlabel(\"x1\")\n",
    "ax.set_ylabel(\"x2\")"
   ]
  },
  {
   "cell_type": "markdown",
   "metadata": {},
   "source": [
    "## Optimization with Hinge Loss"
   ]
  },
  {
   "cell_type": "code",
   "execution_count": 11,
   "metadata": {
    "ExecuteTime": {
     "end_time": "2018-04-22T03:24:58.289606Z",
     "start_time": "2018-04-22T03:24:58.285130Z"
    }
   },
   "outputs": [],
   "source": [
    "def hinge_error(x,y,W,b):\n",
    "    return max(0,1-y*(np.dot(W.T,x)+b))\n",
    "\n",
    "def hinge_gradient(x,y,W,b):\n",
    "    e=y*(np.dot(W.T,x)+b)\n",
    "    if e<1.0:\n",
    "        return -y*x,-y\n",
    "    else:\n",
    "        return np.zeros_like(x),0\n",
    "    \n",
    "def classification_error(X,Y,W,b):\n",
    "    N=len(X)\n",
    "    sum=0.0\n",
    "    for i in range(N):\n",
    "        sum+=hinge_error(X[i],Y[i],W,b)\n",
    "    return sum/N"
   ]
  },
  {
   "cell_type": "code",
   "execution_count": 12,
   "metadata": {
    "ExecuteTime": {
     "end_time": "2018-04-22T03:24:58.729167Z",
     "start_time": "2018-04-22T03:24:58.725862Z"
    }
   },
   "outputs": [],
   "source": [
    "W0=np.array([1.,-1.])\n",
    "b0=0.2"
   ]
  },
  {
   "cell_type": "code",
   "execution_count": 13,
   "metadata": {
    "ExecuteTime": {
     "end_time": "2018-04-22T03:24:59.124106Z",
     "start_time": "2018-04-22T03:24:59.118537Z"
    }
   },
   "outputs": [
    {
     "data": {
      "text/plain": [
       "0.39999999999999997"
      ]
     },
     "execution_count": 13,
     "metadata": {},
     "output_type": "execute_result"
    }
   ],
   "source": [
    "np.dot(W0.T,X[0])+b0"
   ]
  },
  {
   "cell_type": "code",
   "execution_count": 14,
   "metadata": {
    "ExecuteTime": {
     "end_time": "2018-04-22T03:24:59.335622Z",
     "start_time": "2018-04-22T03:24:59.329369Z"
    }
   },
   "outputs": [
    {
     "data": {
      "text/plain": [
       "0.6000000000000001"
      ]
     },
     "execution_count": 14,
     "metadata": {},
     "output_type": "execute_result"
    }
   ],
   "source": [
    "hinge_error(X[0],Y[0],W0,b0)"
   ]
  },
  {
   "cell_type": "code",
   "execution_count": 15,
   "metadata": {
    "ExecuteTime": {
     "end_time": "2018-04-22T03:24:59.533494Z",
     "start_time": "2018-04-22T03:24:59.523588Z"
    }
   },
   "outputs": [
    {
     "data": {
      "text/plain": [
       "(array([-1. , -0.8]), -1.0)"
      ]
     },
     "execution_count": 15,
     "metadata": {},
     "output_type": "execute_result"
    }
   ],
   "source": [
    "hinge_gradient(X[0],Y[0],W0,b0)"
   ]
  },
  {
   "cell_type": "code",
   "execution_count": 16,
   "metadata": {
    "ExecuteTime": {
     "end_time": "2018-04-22T03:24:59.710984Z",
     "start_time": "2018-04-22T03:24:59.703136Z"
    }
   },
   "outputs": [
    {
     "name": "stdout",
     "output_type": "stream",
     "text": [
      "(100, 2)\n"
     ]
    }
   ],
   "source": [
    "x1h=np.zeros(100)\n",
    "x2h=np.linspace(-2,2,100)\n",
    "xh=np.vstack((x1h,x2h)).T\n",
    "print(xh.shape)\n",
    "yh=np.ones(100)\n",
    "err=np.zeros(100)\n",
    "for i in range(100):\n",
    "    err[i]=hinge_error(xh[i],yh[i],W0,b0)"
   ]
  },
  {
   "cell_type": "code",
   "execution_count": 17,
   "metadata": {
    "ExecuteTime": {
     "end_time": "2018-04-22T03:25:00.109340Z",
     "start_time": "2018-04-22T03:24:59.886949Z"
    }
   },
   "outputs": [
    {
     "data": {
      "text/plain": [
       "<matplotlib.legend.Legend at 0x1137d98d0>"
      ]
     },
     "execution_count": 17,
     "metadata": {},
     "output_type": "execute_result"
    },
    {
     "data": {
      "image/png": "[encoded data removed]",
      "text/plain": [
       "<Figure size 432x288 with 1 Axes>"
      ]
     },
     "metadata": {},
     "output_type": "display_data"
    }
   ],
   "source": [
    "x2_0=-b0/W0[1]\n",
    "x2_m=(1-b0)/W0[1]\n",
    "fig, ax = plt.subplots()\n",
    "ax.plot(x2h,err,\"-.\",color=\"k\",label=\"hinge error\")\n",
    "ax.plot([x2_0,x2_0],[0,3],\"-\",color=\"b\",label=\"separating hyperplane\")\n",
    "ax.plot([x2_m,x2_m],[0,3],\"-.\",color=\"b\",label=\"margin\")\n",
    "ax.fill_betweenx([0,3], x2_m, 2.5, facecolor='green',alpha=0.1)\n",
    "ax.fill_betweenx([0,3], -2.5,x2_0, facecolor='blue',alpha=0.1)\n",
    "ax.set_title(\"Hinge error\")\n",
    "ax.set_xlabel(\"error function\")\n",
    "ax.set_ylabel(\"x2\")\n",
    "ax.legend()"
   ]
  },
  {
   "cell_type": "code",
   "execution_count": 18,
   "metadata": {
    "ExecuteTime": {
     "end_time": "2018-04-22T03:25:00.148025Z",
     "start_time": "2018-04-22T03:25:00.137542Z"
    }
   },
   "outputs": [],
   "source": [
    "def train_epoch(X,Y,W,b,weight_penalty,learning_rate):\n",
    "    N=len(X)\n",
    "    perm=random.permutation(N)\n",
    "    for i in perm:\n",
    "        gradW,gradb=hinge_gradient(X[i],Y[i],W,b)\n",
    "        #print(\"gradW\",gradW)\n",
    "        #print(\"gradb\",gradb)\n",
    "        \n",
    "        W-=learning_rate/N*gradW\n",
    "        W*=(1-weight_penalty)\n",
    "        b[0]-=learning_rate/N*gradb\n",
    "\n",
    "def train(X,Y,W,b,weight_penalty,learning_rate,epochs=100):\n",
    "    for e in range(epochs):\n",
    "        train_epoch(X,Y,W,b,weight_penalty,learning_rate)\n",
    "        if (e%(epochs//10)==0):\n",
    "            err=classification_error(X,Y,W,b)\n",
    "            W_l2=np.dot(W.T,W)\n",
    "            objective=err+weight_penalty/2.0*W_l2\n",
    "            print(e,objective,err,W_l2)"
   ]
  },
  {
   "cell_type": "code",
   "execution_count": 19,
   "metadata": {
    "ExecuteTime": {
     "end_time": "2018-04-22T03:25:00.683160Z",
     "start_time": "2018-04-22T03:25:00.680332Z"
    }
   },
   "outputs": [],
   "source": [
    "W=np.array([0.0,0.0])\n",
    "b=np.array([2.0])"
   ]
  },
  {
   "cell_type": "code",
   "execution_count": 20,
   "metadata": {
    "ExecuteTime": {
     "end_time": "2018-04-22T03:25:06.737665Z",
     "start_time": "2018-04-22T03:25:01.141286Z"
    }
   },
   "outputs": [
    {
     "name": "stdout",
     "output_type": "stream",
     "text": [
      "0 [1.462838] [1.462838] 0.0006432399999913882\n",
      "3000 [0.235759] [0.235759] 32.99491762574257\n",
      "6000 [0.12677002] [0.12677002] 67.74020434991978\n",
      "9000 [0.06637101] [0.06637101] 101.58720496029102\n",
      "12000 [0.04283801] [0.04283801] 125.57512315637231\n",
      "15000 [0.02890102] [0.02890102] 146.37473198467694\n",
      "18000 [0.01695902] [0.01695902] 167.52060513791275\n",
      "21000 [0.00502303] [0.00502303] 190.08071960578826\n",
      "24000 1.0092740865795438e-10 0.0 201.85481731590878\n",
      "27000 1.0092740260234802e-10 0.0 201.85480520469605\n"
     ]
    }
   ],
   "source": [
    "train(X,Y,W,b,0.000000000001,0.02,30000)"
   ]
  },
  {
   "cell_type": "code",
   "execution_count": 21,
   "metadata": {
    "ExecuteTime": {
     "end_time": "2018-04-22T03:25:06.786974Z",
     "start_time": "2018-04-22T03:25:06.781060Z"
    }
   },
   "outputs": [
    {
     "data": {
      "text/plain": [
       "array([ 10.02879767, -10.06369765])"
      ]
     },
     "execution_count": 21,
     "metadata": {},
     "output_type": "execute_result"
    }
   ],
   "source": [
    "W"
   ]
  },
  {
   "cell_type": "code",
   "execution_count": 22,
   "metadata": {
    "ExecuteTime": {
     "end_time": "2018-04-22T03:25:06.838691Z",
     "start_time": "2018-04-22T03:25:06.828380Z"
    }
   },
   "outputs": [
    {
     "data": {
      "text/plain": [
       "0.04599999999999835"
      ]
     },
     "execution_count": 22,
     "metadata": {},
     "output_type": "execute_result"
    }
   ],
   "source": [
    "b[0]"
   ]
  },
  {
   "cell_type": "code",
   "execution_count": 23,
   "metadata": {
    "ExecuteTime": {
     "end_time": "2018-04-22T03:25:09.630725Z",
     "start_time": "2018-04-22T03:25:09.626966Z"
    }
   },
   "outputs": [],
   "source": [
    "x0=np.linspace(0.9,3.1,100)\n",
    "x0=np.linspace(0.9,3.1,100)\n",
    "y0=-(W[0]*x0+b)/W[1]\n",
    "yp=-(W[0]*x0+b+1)/W[1]\n",
    "ym=-(W[0]*x0+b-1)/W[1]"
   ]
  },
  {
   "cell_type": "code",
   "execution_count": 24,
   "metadata": {
    "ExecuteTime": {
     "end_time": "2018-04-22T03:25:10.336410Z",
     "start_time": "2018-04-22T03:25:10.184182Z"
    }
   },
   "outputs": [
    {
     "data": {
      "text/plain": [
       "Text(0,0.5,'x2')"
      ]
     },
     "execution_count": 24,
     "metadata": {},
     "output_type": "execute_result"
    },
    {
     "data": {
      "image/png": "[encoded data removed]",
      "text/plain": [
       "<Figure size 432x288 with 1 Axes>"
      ]
     },
     "metadata": {},
     "output_type": "display_data"
    }
   ],
   "source": [
    "\n",
    "fig, ax = plt.subplots()\n",
    "ax.plot(data_true[\"x1\"],data_true[\"x2\"],\"o\",color=\"b\")\n",
    "ax.plot(data_false[\"x1\"],data_false[\"x2\"],\"o\",color=\"r\")\n",
    "ax.plot(x0,y0,\"-\",color=\"k\")\n",
    "ax.plot(x0,yp,\".\",color=\"g\")\n",
    "ax.plot(x0,ym,\".\",color=\"g\")\n",
    "ax.set_title(\"SVM optimal separating Hyperplane\")\n",
    "ax.set_xlabel(\"x1\")\n",
    "ax.set_ylabel(\"x2\")"
   ]
  },
  {
   "cell_type": "markdown",
   "metadata": {},
   "source": [
    "## Comparison to sklearn"
   ]
  },
  {
   "cell_type": "code",
   "execution_count": 25,
   "metadata": {
    "ExecuteTime": {
     "end_time": "2018-04-22T03:25:12.777812Z",
     "start_time": "2018-04-22T03:25:12.769012Z"
    }
   },
   "outputs": [
    {
     "data": {
      "text/plain": [
       "SVC(C=100000000, cache_size=200, class_weight=None, coef0=0.0,\n",
       "  decision_function_shape='ovr', degree=3, gamma='auto', kernel='linear',\n",
       "  max_iter=-1, probability=False, random_state=None, shrinking=True,\n",
       "  tol=0.001, verbose=False)"
      ]
     },
     "execution_count": 25,
     "metadata": {},
     "output_type": "execute_result"
    }
   ],
   "source": [
    "model=svm.SVC(C=100000000,kernel=\"linear\") \n",
    "model.fit(X, Y)"
   ]
  },
  {
   "cell_type": "code",
   "execution_count": 26,
   "metadata": {
    "ExecuteTime": {
     "end_time": "2018-03-18T20:17:28.225493Z",
     "start_time": "2018-03-18T20:17:28.214463Z"
    }
   },
   "outputs": [
    {
     "data": {
      "text/plain": [
       "array([ 9.99771334, -9.99847874])"
      ]
     },
     "execution_count": 26,
     "metadata": {},
     "output_type": "execute_result"
    }
   ],
   "source": [
    "w=model.coef_[0]\n",
    "w"
   ]
  },
  {
   "cell_type": "code",
   "execution_count": 27,
   "metadata": {
    "ExecuteTime": {
     "end_time": "2018-03-18T20:17:28.243540Z",
     "start_time": "2018-03-18T20:17:28.227497Z"
    }
   },
   "outputs": [
    {
     "data": {
      "text/plain": [
       "0.0011656549268842659"
      ]
     },
     "execution_count": 27,
     "metadata": {},
     "output_type": "execute_result"
    }
   ],
   "source": [
    "b=model.intercept_[0]\n",
    "b"
   ]
  },
  {
   "cell_type": "code",
   "execution_count": 28,
   "metadata": {
    "ExecuteTime": {
     "end_time": "2018-03-18T20:17:28.257577Z",
     "start_time": "2018-03-18T20:17:28.246552Z"
    },
    "collapsed": true
   },
   "outputs": [],
   "source": [
    "x0=np.linspace(0.9,3.1,100)\n",
    "y0=-(w[0]*x0+b)/w[1]\n",
    "yp=-(w[0]*x0+b+1)/w[1]\n",
    "ym=-(w[0]*x0+b-1)/w[1]"
   ]
  },
  {
   "cell_type": "code",
   "execution_count": 29,
   "metadata": {
    "ExecuteTime": {
     "end_time": "2018-03-18T20:17:28.447090Z",
     "start_time": "2018-03-18T20:17:28.258579Z"
    }
   },
   "outputs": [
    {
     "data": {
      "text/plain": [
       "Text(0,0.5,'x2')"
      ]
     },
     "execution_count": 29,
     "metadata": {},
     "output_type": "execute_result"
    },
    {
     "data": {
      "image/png": "[encoded data removed]",
      "text/plain": [
       "<Figure size 432x288 with 1 Axes>"
      ]
     },
     "metadata": {},
     "output_type": "display_data"
    }
   ],
   "source": [
    "fig, ax = plt.subplots()\n",
    "ax.plot(data_true[\"x1\"],data_true[\"x2\"],\"o\",color=\"b\")\n",
    "ax.plot(data_false[\"x1\"],data_false[\"x2\"],\"o\",color=\"r\")\n",
    "ax.plot(x0,y0,\"-\",color=\"k\")\n",
    "ax.plot(x0,yp,\".\",color=\"g\")\n",
    "ax.plot(x0,ym,\".\",color=\"g\")\n",
    "ax.set_title(\"Sklearn optimal separating hyperplane\")\n",
    "ax.set_xlabel(\"x1\")\n",
    "ax.set_ylabel(\"x2\")"
   ]
  },
  {
   "cell_type": "markdown",
   "metadata": {},
   "source": [
    "## Non Linear Classification Problem"
   ]
  },
  {
   "cell_type": "code",
   "execution_count": 30,
   "metadata": {
    "ExecuteTime": {
     "end_time": "2018-03-18T20:17:28.456104Z",
     "start_time": "2018-03-18T20:17:28.449087Z"
    },
    "collapsed": true
   },
   "outputs": [],
   "source": [
    "N=15\n",
    "R=1.0\n",
    "DR=0.1\n",
    "theta=np.linspace(0,2*np.pi,N)\n",
    "dr=random.normal(loc=0.0,scale=DR,size=N)\n",
    "y=np.sign(dr)\n",
    "dr+=DR*y # add a margin\n",
    "x1=(R+dr)*(0.5*np.cos(theta)+1*np.sin(theta))\n",
    "x2=(R+dr)*(0.5*np.sin(theta)+1*np.cos(theta))\n",
    "x=np.vstack((x1,x2)).T"
   ]
  },
  {
   "cell_type": "code",
   "execution_count": 31,
   "metadata": {
    "ExecuteTime": {
     "end_time": "2018-03-18T20:17:28.690728Z",
     "start_time": "2018-03-18T20:17:28.457107Z"
    },
    "scrolled": true
   },
   "outputs": [
    {
     "data": {
      "image/png": "[encoded data removed]",
      "text/plain": [
       "<Figure size 432x288 with 1 Axes>"
      ]
     },
     "metadata": {},
     "output_type": "display_data"
    }
   ],
   "source": [
    "from matplotlib.patches import Ellipse\n",
    "\n",
    "fig, ax = plt.subplots()\n",
    "\n",
    "ax.plot(data_true[\"x1\"],data_true[\"x2\"],\"o\",color=\"b\")\n",
    "ax.plot(data_false[\"x1\"],data_false[\"x2\"],\"o\",color=\"r\")\n",
    "ellipse1=Ellipse((0,0), width=3, height=1, angle=48,fill=False)\n",
    "ax.add_artist(ellipse1)\n",
    "ellipse2=Ellipse((0.05,0), width=3.1, height=1, angle=41,fill=False,color=\"g\")\n",
    "ax.add_artist(ellipse2)\n",
    "#ax.plot(x0,yp,\".\",color=\"g\")\n",
    "#ax.plot(x0,ym,\".\",color=\"g\")\n",
    "ax.set_title(\"Two posible separating ellipses\")\n",
    "ax.set_xlabel(\"x1\")\n",
    "ax.set_ylabel(\"x2\")\n",
    "ax.set_xlim([-1.5,1.5])\n",
    "ax.set_ylim([-1.5,1.5])\n",
    "ax.set_aspect('equal')"
   ]
  },
  {
   "cell_type": "markdown",
   "metadata": {},
   "source": [
    "### Method1:  Add nonlinear terms to regression"
   ]
  },
  {
   "cell_type": "code",
   "execution_count": 32,
   "metadata": {
    "ExecuteTime": {
     "end_time": "2018-03-18T20:17:28.716797Z",
     "start_time": "2018-03-18T20:17:28.695750Z"
    }
   },
   "outputs": [
    {
     "data": {
      "text/html": [
       "<div>\n",
       "<style scoped>\n",
       "    .dataframe tbody tr th:only-of-type {\n",
       "        vertical-align: middle;\n",
       "    }\n",
       "\n",
       "    .dataframe tbody tr th {\n",
       "        vertical-align: top;\n",
       "    }\n",
       "\n",
       "    .dataframe thead th {\n",
       "        text-align: right;\n",
       "    }\n",
       "</style>\n",
       "<table border=\"1\" class=\"dataframe\">\n",
       "  <thead>\n",
       "    <tr style=\"text-align: right;\">\n",
       "      <th></th>\n",
       "      <th>x1</th>\n",
       "      <th>x2</th>\n",
       "      <th>x1*x1</th>\n",
       "      <th>x2*x2</th>\n",
       "      <th>2*x1*x2</th>\n",
       "      <th>y</th>\n",
       "    </tr>\n",
       "  </thead>\n",
       "  <tbody>\n",
       "    <tr>\n",
       "      <th>0</th>\n",
       "      <td>0.436965</td>\n",
       "      <td>0.873931</td>\n",
       "      <td>0.190939</td>\n",
       "      <td>0.763755</td>\n",
       "      <td>0.763755</td>\n",
       "      <td>-1.0</td>\n",
       "    </tr>\n",
       "    <tr>\n",
       "      <th>1</th>\n",
       "      <td>0.793941</td>\n",
       "      <td>1.003603</td>\n",
       "      <td>0.630342</td>\n",
       "      <td>1.007219</td>\n",
       "      <td>1.593603</td>\n",
       "      <td>-1.0</td>\n",
       "    </tr>\n",
       "    <tr>\n",
       "      <th>2</th>\n",
       "      <td>0.933552</td>\n",
       "      <td>0.865966</td>\n",
       "      <td>0.871519</td>\n",
       "      <td>0.749897</td>\n",
       "      <td>1.616848</td>\n",
       "      <td>-1.0</td>\n",
       "    </tr>\n",
       "    <tr>\n",
       "      <th>3</th>\n",
       "      <td>0.847490</td>\n",
       "      <td>0.553960</td>\n",
       "      <td>0.718239</td>\n",
       "      <td>0.306872</td>\n",
       "      <td>0.938951</td>\n",
       "      <td>-1.0</td>\n",
       "    </tr>\n",
       "    <tr>\n",
       "      <th>4</th>\n",
       "      <td>0.745110</td>\n",
       "      <td>0.228574</td>\n",
       "      <td>0.555189</td>\n",
       "      <td>0.052246</td>\n",
       "      <td>0.340625</td>\n",
       "      <td>-1.0</td>\n",
       "    </tr>\n",
       "    <tr>\n",
       "      <th>5</th>\n",
       "      <td>0.631890</td>\n",
       "      <td>-0.312626</td>\n",
       "      <td>0.399285</td>\n",
       "      <td>0.097735</td>\n",
       "      <td>-0.395090</td>\n",
       "      <td>1.0</td>\n",
       "    </tr>\n",
       "    <tr>\n",
       "      <th>6</th>\n",
       "      <td>-0.014168</td>\n",
       "      <td>-0.583803</td>\n",
       "      <td>0.000201</td>\n",
       "      <td>0.340826</td>\n",
       "      <td>0.016543</td>\n",
       "      <td>-1.0</td>\n",
       "    </tr>\n",
       "    <tr>\n",
       "      <th>7</th>\n",
       "      <td>-0.636987</td>\n",
       "      <td>-1.273973</td>\n",
       "      <td>0.405752</td>\n",
       "      <td>1.623007</td>\n",
       "      <td>1.623007</td>\n",
       "      <td>1.0</td>\n",
       "    </tr>\n",
       "    <tr>\n",
       "      <th>8</th>\n",
       "      <td>-0.994782</td>\n",
       "      <td>-1.257483</td>\n",
       "      <td>0.989592</td>\n",
       "      <td>1.581264</td>\n",
       "      <td>2.501844</td>\n",
       "      <td>1.0</td>\n",
       "    </tr>\n",
       "    <tr>\n",
       "      <th>9</th>\n",
       "      <td>-0.943559</td>\n",
       "      <td>-0.875249</td>\n",
       "      <td>0.890304</td>\n",
       "      <td>0.766061</td>\n",
       "      <td>1.651699</td>\n",
       "      <td>-1.0</td>\n",
       "    </tr>\n",
       "    <tr>\n",
       "      <th>10</th>\n",
       "      <td>-0.898677</td>\n",
       "      <td>-0.587418</td>\n",
       "      <td>0.807619</td>\n",
       "      <td>0.345060</td>\n",
       "      <td>1.055798</td>\n",
       "      <td>-1.0</td>\n",
       "    </tr>\n",
       "    <tr>\n",
       "      <th>11</th>\n",
       "      <td>-0.755253</td>\n",
       "      <td>-0.231685</td>\n",
       "      <td>0.570406</td>\n",
       "      <td>0.053678</td>\n",
       "      <td>0.349962</td>\n",
       "      <td>-1.0</td>\n",
       "    </tr>\n",
       "    <tr>\n",
       "      <th>12</th>\n",
       "      <td>-0.534319</td>\n",
       "      <td>0.264353</td>\n",
       "      <td>0.285497</td>\n",
       "      <td>0.069882</td>\n",
       "      <td>-0.282498</td>\n",
       "      <td>1.0</td>\n",
       "    </tr>\n",
       "    <tr>\n",
       "      <th>13</th>\n",
       "      <td>0.013774</td>\n",
       "      <td>0.567536</td>\n",
       "      <td>0.000190</td>\n",
       "      <td>0.322097</td>\n",
       "      <td>0.015634</td>\n",
       "      <td>-1.0</td>\n",
       "    </tr>\n",
       "    <tr>\n",
       "      <th>14</th>\n",
       "      <td>0.571588</td>\n",
       "      <td>1.143176</td>\n",
       "      <td>0.326713</td>\n",
       "      <td>1.306851</td>\n",
       "      <td>1.306851</td>\n",
       "      <td>1.0</td>\n",
       "    </tr>\n",
       "  </tbody>\n",
       "</table>\n",
       "</div>"
      ],
      "text/plain": [
       "          x1        x2     x1*x1     x2*x2   2*x1*x2    y\n",
       "0   0.436965  0.873931  0.190939  0.763755  0.763755 -1.0\n",
       "1   0.793941  1.003603  0.630342  1.007219  1.593603 -1.0\n",
       "2   0.933552  0.865966  0.871519  0.749897  1.616848 -1.0\n",
       "3   0.847490  0.553960  0.718239  0.306872  0.938951 -1.0\n",
       "4   0.745110  0.228574  0.555189  0.052246  0.340625 -1.0\n",
       "5   0.631890 -0.312626  0.399285  0.097735 -0.395090  1.0\n",
       "6  -0.014168 -0.583803  0.000201  0.340826  0.016543 -1.0\n",
       "7  -0.636987 -1.273973  0.405752  1.623007  1.623007  1.0\n",
       "8  -0.994782 -1.257483  0.989592  1.581264  2.501844  1.0\n",
       "9  -0.943559 -0.875249  0.890304  0.766061  1.651699 -1.0\n",
       "10 -0.898677 -0.587418  0.807619  0.345060  1.055798 -1.0\n",
       "11 -0.755253 -0.231685  0.570406  0.053678  0.349962 -1.0\n",
       "12 -0.534319  0.264353  0.285497  0.069882 -0.282498  1.0\n",
       "13  0.013774  0.567536  0.000190  0.322097  0.015634 -1.0\n",
       "14  0.571588  1.143176  0.326713  1.306851  1.306851  1.0"
      ]
     },
     "execution_count": 32,
     "metadata": {},
     "output_type": "execute_result"
    }
   ],
   "source": [
    "data=pd.DataFrame(x,columns=[\"x1\",\"x2\"])\n",
    "data[\"x1*x1\"]=data[\"x1\"]**2\n",
    "data[\"x2*x2\"]=data[\"x2\"]**2\n",
    "data[\"2*x1*x2\"]=2*data[\"x1\"]*data[\"x2\"]\n",
    "data[\"y\"]=y\n",
    "data_true=data[data[\"y\"]==1.0]\n",
    "data_false=data[data[\"y\"]==-1.0]\n",
    "data"
   ]
  },
  {
   "cell_type": "code",
   "execution_count": 33,
   "metadata": {
    "ExecuteTime": {
     "end_time": "2018-03-18T20:17:28.729832Z",
     "start_time": "2018-03-18T20:17:28.718805Z"
    },
    "collapsed": true
   },
   "outputs": [],
   "source": [
    "X=data.as_matrix([\"x1\",\"x2\",\"x1*x1\",\"x2*x2\",\"2*x1*x2\"])\n",
    "Y=data[\"y\"]"
   ]
  },
  {
   "cell_type": "code",
   "execution_count": 34,
   "metadata": {
    "ExecuteTime": {
     "end_time": "2018-03-18T20:17:28.748883Z",
     "start_time": "2018-03-18T20:17:28.731837Z"
    },
    "collapsed": true
   },
   "outputs": [],
   "source": [
    "W=np.array([0.,0.,0.,0.,0.])\n",
    "b=[0.0]"
   ]
  },
  {
   "cell_type": "code",
   "execution_count": 35,
   "metadata": {
    "ExecuteTime": {
     "end_time": "2018-03-18T20:17:42.711275Z",
     "start_time": "2018-03-18T20:17:28.751890Z"
    },
    "scrolled": true
   },
   "outputs": [
    {
     "name": "stdout",
     "output_type": "stream",
     "text": [
      "0 [0.99458139] [0.99458139] 6.392779320242342e-05\n",
      "3000 [0.3778252] [0.3778252] 11.157841718864823\n",
      "6000 [0.25148889] [0.25148889] 32.36560221534339\n",
      "9000 [0.13748258] [0.13748258] 64.08287267966642\n",
      "12000 [0.04794913] [0.04794913] 101.82168035535773\n",
      "15000 [0.00698487] [0.00698487] 132.81727225910134\n",
      "18000 7.02841357356908e-12 0.0 140.5682714713816\n",
      "21000 7.0284135103007274e-12 0.0 140.56827020601455\n",
      "24000 7.0284134470323756e-12 0.0 140.5682689406475\n",
      "27000 7.028413383764023e-12 0.0 140.56826767528045\n"
     ]
    }
   ],
   "source": [
    "train(X,Y,W,b,0.0000000000001,0.02,30000)"
   ]
  },
  {
   "cell_type": "code",
   "execution_count": 36,
   "metadata": {
    "ExecuteTime": {
     "end_time": "2018-03-18T20:17:42.717296Z",
     "start_time": "2018-03-18T20:17:42.712281Z"
    }
   },
   "outputs": [
    {
     "data": {
      "text/plain": [
       "(array([-1.14263153,  0.47572244,  6.35486215,  8.01297467, -5.86892766]),\n",
       " -3.767999999999851)"
      ]
     },
     "execution_count": 36,
     "metadata": {},
     "output_type": "execute_result"
    }
   ],
   "source": [
    "W,b[0]"
   ]
  },
  {
   "cell_type": "code",
   "execution_count": 37,
   "metadata": {
    "ExecuteTime": {
     "end_time": "2018-03-18T20:17:42.763417Z",
     "start_time": "2018-03-18T20:17:42.719299Z"
    },
    "collapsed": true
   },
   "outputs": [],
   "source": [
    "N=100\n",
    "x1=np.linspace(-1.6,1.8,N)\n",
    "x2=np.linspace(-1.6,1.8,N)\n",
    "Xd=np.empty((N*N,5))\n",
    "\n",
    "for i1 in range(N):\n",
    "    for i2 in range(N):\n",
    "       Xd[i1+i2*N]=(x1[i1],x2[i2],x1[i1]*x1[i1],x2[i2]*x2[i2],2*x1[i1]*x2[i2])\n",
    "\n",
    "x1m,x2m=np.meshgrid(x1,x2)\n",
    "L=np.dot(W,Xd.T)+b[0]\n",
    "L=L.reshape(N,N)\n"
   ]
  },
  {
   "cell_type": "code",
   "execution_count": 38,
   "metadata": {
    "ExecuteTime": {
     "end_time": "2018-03-18T20:17:42.954930Z",
     "start_time": "2018-03-18T20:17:42.765421Z"
    },
    "scrolled": true
   },
   "outputs": [
    {
     "data": {
      "image/png": "[encoded data removed]",
      "text/plain": [
       "<Figure size 432x288 with 1 Axes>"
      ]
     },
     "metadata": {},
     "output_type": "display_data"
    }
   ],
   "source": [
    "fig, ax = plt.subplots()\n",
    "ax.contourf(x1m,x2m,L,[-1.0,0.0],alpha=0.1,colors=[\"r\"])\n",
    "ax.contourf(x1m,x2m,L,[0.0,1.0],alpha=0.1,colors=[\"b\"])\n",
    "ax.contourf(x1m,x2m,L,[-0.02,0.02],alpha=0.1,colors=[\"k\"])\n",
    "ax.plot(data_true[\"x1\"],data_true[\"x2\"],\"o\",color=\"b\")\n",
    "ax.plot(data_false[\"x1\"],data_false[\"x2\"],\"o\",color=\"r\")\n",
    "ax.set_title(\"SVM optimal separating ellipse\")\n",
    "ax.set_xlabel(\"x1\")\n",
    "ax.set_ylabel(\"y2\")\n",
    "ax.set_aspect('equal')"
   ]
  },
  {
   "cell_type": "code",
   "execution_count": null,
   "metadata": {
    "collapsed": true
   },
   "outputs": [],
   "source": []
  },
  {
   "cell_type": "code",
   "execution_count": null,
   "metadata": {},
   "outputs": [],
   "source": []
  },
  {
   "cell_type": "code",
   "execution_count": null,
   "metadata": {},
   "outputs": [],
   "source": []
  }
 ],
 "metadata": {
  "kernelspec": {
   "display_name": "Python 3",
   "language": "python",
   "name": "python3"
  },
  "language_info": {
   "codemirror_mode": {
    "name": "ipython",
    "version": 3
   },
   "file_extension": ".py",
   "mimetype": "text/x-python",
   "name": "python",
   "nbconvert_exporter": "python",
   "pygments_lexer": "ipython3",
   "version": "3.6.4"
  },
  "toc": {
   "nav_menu": {},
   "number_sections": true,
   "sideBar": true,
   "skip_h1_title": true,
   "title_cell": "Table of Contents",
   "title_sidebar": "Contents",
   "toc_cell": false,
   "toc_position": {},
   "toc_section_display": "block",
   "toc_window_display": false
  },
  "varInspector": {
   "cols": {
    "lenName": 16,
    "lenType": 16,
    "lenVar": 40
   },
   "kernels_config": {
    "python": {
     "delete_cmd_postfix": "",
     "delete_cmd_prefix": "del ",
     "library": "var_list.py",
     "varRefreshCmd": "print(var_dic_list())"
    },
    "r": {
     "delete_cmd_postfix": ") ",
     "delete_cmd_prefix": "rm(",
     "library": "var_list.r",
     "varRefreshCmd": "cat(var_dic_list()) "
    }
   },
   "types_to_exclude": [
    "module",
    "function",
    "builtin_function_or_method",
    "instance",
    "_Feature"
   ],
   "window_display": false
  }
 },
 "nbformat": 4,
 "nbformat_minor": 2
}
